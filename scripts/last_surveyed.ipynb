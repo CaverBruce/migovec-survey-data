{
 "cells": [
  {
   "cell_type": "code",
   "execution_count": 2,
   "metadata": {},
   "outputs": [],
   "source": [
    "import sqlite3\n",
    "import numpy as np"
   ]
  },
  {
   "cell_type": "code",
   "execution_count": 1,
   "metadata": {},
   "outputs": [],
   "source": [
    "basename = \"../outputs/plateau\"\n",
    "sql_name = basename + \".sql\""
   ]
  },
  {
   "cell_type": "code",
   "execution_count": 3,
   "metadata": {},
   "outputs": [
    {
     "ename": "OperationalError",
     "evalue": "no such column: nan",
     "output_type": "error",
     "traceback": [
      "\u001b[0;31m---------------------------------------------------------------------------\u001b[0m",
      "\u001b[0;31mOperationalError\u001b[0m                          Traceback (most recent call last)",
      "\u001b[1;32m/Users/tanguyracine/Documents/GitHub/migovec-survey-data/scripts/last_surveyed.ipynb Cell 3\u001b[0m line \u001b[0;36m3\n\u001b[1;32m      <a href='vscode-notebook-cell:/Users/tanguyracine/Documents/GitHub/migovec-survey-data/scripts/last_surveyed.ipynb#W2sZmlsZQ%3D%3D?line=0'>1</a>\u001b[0m \u001b[39mtry\u001b[39;00m: \n\u001b[1;32m      <a href='vscode-notebook-cell:/Users/tanguyracine/Documents/GitHub/migovec-survey-data/scripts/last_surveyed.ipynb#W2sZmlsZQ%3D%3D?line=1'>2</a>\u001b[0m     conn \u001b[39m=\u001b[39m sqlite3\u001b[39m.\u001b[39mconnect(\u001b[39m\"\u001b[39m\u001b[39m:memory:\u001b[39m\u001b[39m\"\u001b[39m)\n\u001b[0;32m----> <a href='vscode-notebook-cell:/Users/tanguyracine/Documents/GitHub/migovec-survey-data/scripts/last_surveyed.ipynb#W2sZmlsZQ%3D%3D?line=2'>3</a>\u001b[0m     conn\u001b[39m.\u001b[39;49mexecutescript(\u001b[39mopen\u001b[39;49m(sql_name)\u001b[39m.\u001b[39;49mread())\n\u001b[1;32m      <a href='vscode-notebook-cell:/Users/tanguyracine/Documents/GitHub/migovec-survey-data/scripts/last_surveyed.ipynb#W2sZmlsZQ%3D%3D?line=3'>4</a>\u001b[0m \u001b[39mexcept\u001b[39;00m \u001b[39mOSError\u001b[39;00m:\n\u001b[1;32m      <a href='vscode-notebook-cell:/Users/tanguyracine/Documents/GitHub/migovec-survey-data/scripts/last_surveyed.ipynb#W2sZmlsZQ%3D%3D?line=4'>5</a>\u001b[0m     \u001b[39mprint\u001b[39m(\u001b[39m\"\u001b[39m\u001b[39mIMPORT ERROR: Could not import \u001b[39m\u001b[39m{}\u001b[39;00m\u001b[39m\"\u001b[39m\u001b[39m.\u001b[39mformat(sql_name))\n",
      "\u001b[0;31mOperationalError\u001b[0m: no such column: nan"
     ]
    }
   ],
   "source": [
    "try: \n",
    "    conn = sqlite3.connect(\":memory:\")\n",
    "    conn.executescript(open(sql_name).read())\n",
    "except OSError:\n",
    "    print(\"IMPORT ERROR: Could not import {}\".format(sql_name))"
   ]
  },
  {
   "cell_type": "code",
   "execution_count": 4,
   "metadata": {},
   "outputs": [
    {
     "data": {
      "text/plain": [
       "<sqlite3.Cursor at 0x7fb3060f6d50>"
      ]
     },
     "execution_count": 4,
     "metadata": {},
     "output_type": "execute_result"
    }
   ],
   "source": [
    "c = conn.cursor()\n",
    "\n",
    "\n",
    "c.execute('select  min(st.Z), max(st.Z), su.FULL_NAME, ct.TOPO_DATE\\\n",
    "          from STATION st, SURVEY su, CENTRELINE ct\\\n",
    "          WHERE st.SURVEY_ID = su.ID and st.NAME !=\".\" and st.NAME !=\"-\" and ct.SURVEY_ID = su.ID  and ct.TOPO_DATE > \"2021-12-31\"\\\n",
    "          GROUP BY su.FULL_NAME ORDER BY ct.TOPO_DATE ;')\n"
   ]
  },
  {
   "cell_type": "code",
   "execution_count": 5,
   "metadata": {},
   "outputs": [],
   "source": [
    "z_ranges = c.fetchall()"
   ]
  },
  {
   "cell_type": "code",
   "execution_count": 60,
   "metadata": {},
   "outputs": [],
   "source": [
    "dates = [i[3] for i in z_ranges]\n",
    "alt_diff = [i[1]-i[0] for i in z_ranges]\n",
    "names = [i[2].split(\".\")[0] for i in z_ranges]"
   ]
  },
  {
   "cell_type": "code",
   "execution_count": 61,
   "metadata": {},
   "outputs": [
    {
     "data": {
      "text/plain": [
       "['styx',\n",
       " 'echo_falls',\n",
       " 'novi_vhod',\n",
       " '100_cocoa',\n",
       " 'coda',\n",
       " 'the_expo_strikes_back',\n",
       " 'the_deep_awakens',\n",
       " 'cantina_canyon',\n",
       " 'bin_bag_palace',\n",
       " 'sisyphus_slope',\n",
       " 'mudaholic',\n",
       " 'cantina_canyon_2',\n",
       " 'antares',\n",
       " 'who_dies_first',\n",
       " 'the_aviary',\n",
       " 'blue_lagoon',\n",
       " 'delta_blues',\n",
       " 'neu_alliance',\n",
       " 'auld_alliance_resurvey',\n",
       " 'fools_gold',\n",
       " 'a_dry_place',\n",
       " 'blossom_hill']"
      ]
     },
     "execution_count": 61,
     "metadata": {},
     "output_type": "execute_result"
    }
   ],
   "source": [
    "names"
   ]
  },
  {
   "cell_type": "code",
   "execution_count": 19,
   "metadata": {},
   "outputs": [
    {
     "data": {
      "text/plain": [
       "<sqlite3.Cursor at 0x7fb3060f6d50>"
      ]
     },
     "execution_count": 19,
     "metadata": {},
     "output_type": "execute_result"
    }
   ],
   "source": [
    "c.execute('select sum(sh.ADJ_LENGTH), su.FULL_NAME, ct.TOPO_DATE, shf.FLAG, su.ID\\\n",
    "          from SHOT sh, SURVEY su, CENTRELINE ct, STATION stn1, STATION stn2, SHOT_FLAG shf\\\n",
    "          WHERE sh.TO_ID = stn1.ID and sh.TO_ID = stn2.ID and stn2.NAME != \".\" and  stn2.NAME != \"-\" and stn1.SURVEY_ID = su.id and ct.SURVEY_ID = su.ID  and ct.TOPO_DATE > \"2021-12-31\" and shf.SHOT_ID = sh.ID and shf.SHOT_ID = sh.ID\\\n",
    "          GROUP BY su.FULL_NAME ORDER BY ct.TOPO_DATE;')\n"
   ]
  },
  {
   "cell_type": "code",
   "execution_count": 20,
   "metadata": {},
   "outputs": [],
   "source": [
    "duplicates = c.fetchall()"
   ]
  },
  {
   "cell_type": "code",
   "execution_count": 34,
   "metadata": {},
   "outputs": [],
   "source": [
    "dpl_survey_ids =np.array([i[4] for i in duplicates])\n",
    "dpl_lengths = np.array([i[0] for i in duplicates])"
   ]
  },
  {
   "cell_type": "code",
   "execution_count": 26,
   "metadata": {},
   "outputs": [
    {
     "data": {
      "text/plain": [
       "<sqlite3.Cursor at 0x7fb3060f6d50>"
      ]
     },
     "execution_count": 26,
     "metadata": {},
     "output_type": "execute_result"
    }
   ],
   "source": [
    "c.execute('select sum(sh.ADJ_LENGTH), su.FULL_NAME, ct.TOPO_DATE, su.ID\\\n",
    "          from SHOT sh, SURVEY su, CENTRELINE ct, STATION stn1, STATION stn2\\\n",
    "          WHERE sh.TO_ID = stn1.ID and sh.TO_ID = stn2.ID and stn2.NAME != \".\" and  stn2.NAME != \"-\" and stn1.SURVEY_ID = su.id and ct.SURVEY_ID = su.ID  and ct.TOPO_DATE > \"2021-12-31\"\\\n",
    "          GROUP BY su.FULL_NAME ORDER BY ct.TOPO_DATE;')"
   ]
  },
  {
   "cell_type": "code",
   "execution_count": 27,
   "metadata": {},
   "outputs": [],
   "source": [
    "raw = c.fetchall()"
   ]
  },
  {
   "cell_type": "code",
   "execution_count": 42,
   "metadata": {},
   "outputs": [],
   "source": [
    "raw_lengths = np.array([i[0] for i in raw])\n",
    "raw_ids = np.array([i[3] for i in raw])\n",
    "\n",
    "duplicate_lengths = np.zeros(len(raw_lengths))"
   ]
  },
  {
   "cell_type": "code",
   "execution_count": 43,
   "metadata": {},
   "outputs": [],
   "source": [
    "duplicate_lengths[np.isin(raw_ids, dpl_survey_ids)] =  dpl_lengths"
   ]
  },
  {
   "cell_type": "code",
   "execution_count": 44,
   "metadata": {},
   "outputs": [],
   "source": [
    "new_lengths = raw_lengths - duplicate_lengths"
   ]
  },
  {
   "cell_type": "code",
   "execution_count": 62,
   "metadata": {},
   "outputs": [],
   "source": [
    "clean = np.array([names, dates, alt_diff, new_lengths, duplicate_lengths], dtype=str).T"
   ]
  },
  {
   "cell_type": "code",
   "execution_count": 68,
   "metadata": {},
   "outputs": [],
   "source": [
    "with open(\"last_surveyed_since_2022-01-01.txt\", \"w\") as f:\n",
    "    f.write(\"name, date, vertical extent, length, duplicate length,\\n\")\n",
    "    for line in clean:\n",
    "        for element in line:\n",
    "            try:\n",
    "                element = float(element)\n",
    "                f.write(f\"{element:.3f}\")\n",
    "            except:\n",
    "                f.write(str(element))\n",
    "            f.write(\",\")\n",
    "        f.write(\"\\n\")\n",
    "    f.close()"
   ]
  },
  {
   "cell_type": "code",
   "execution_count": 4,
   "metadata": {},
   "outputs": [
    {
     "ename": "NameError",
     "evalue": "name 'c' is not defined",
     "output_type": "error",
     "traceback": [
      "\u001b[0;31m---------------------------------------------------------------------------\u001b[0m",
      "\u001b[0;31mNameError\u001b[0m                                 Traceback (most recent call last)",
      "\u001b[1;32m/Users/tanguyracine/Documents/GitHub/migovec-survey-data/scripts/last_surveyed.ipynb Cell 18\u001b[0m line \u001b[0;36m1\n\u001b[0;32m----> <a href='vscode-notebook-cell:/Users/tanguyracine/Documents/GitHub/migovec-survey-data/scripts/last_surveyed.ipynb#X23sZmlsZQ%3D%3D?line=0'>1</a>\u001b[0m c\u001b[39m.\u001b[39mclose()\n",
      "\u001b[0;31mNameError\u001b[0m: name 'c' is not defined"
     ]
    }
   ],
   "source": [
    "c.close()"
   ]
  }
 ],
 "metadata": {
  "kernelspec": {
   "display_name": "ultima",
   "language": "python",
   "name": "python3"
  },
  "language_info": {
   "codemirror_mode": {
    "name": "ipython",
    "version": 3
   },
   "file_extension": ".py",
   "mimetype": "text/x-python",
   "name": "python",
   "nbconvert_exporter": "python",
   "pygments_lexer": "ipython3",
   "version": "3.9.15"
  },
  "orig_nbformat": 4
 },
 "nbformat": 4,
 "nbformat_minor": 2
}
